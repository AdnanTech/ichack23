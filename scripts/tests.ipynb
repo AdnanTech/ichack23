{
 "cells": [
  {
   "cell_type": "code",
   "execution_count": 8,
   "metadata": {},
   "outputs": [],
   "source": [
    "from terra.base_client import Terra\n",
    "\n",
    "from configobj import ConfigObj\n",
    "from datetime import datetime"
   ]
  },
  {
   "cell_type": "code",
   "execution_count": 9,
   "metadata": {},
   "outputs": [],
   "source": [
    "config = ConfigObj('config.cfg')\n",
    "terra = Terra(api_key='991eba45c0fb074e22a91924754db212a0b49ee11024a48904ef4bab819504ef', dev_id='ichack-team-adnan-dev-61QL3bMo4c', secret='5733cceef4a4f1ff9229fc23d40aa8cc5fe75ed7f289085c')"
   ]
  },
  {
   "cell_type": "code",
   "execution_count": 10,
   "metadata": {},
   "outputs": [
    {
     "data": {
      "text/plain": [
       "ProvidersResponse(status='warning', providers=['BIOSTRAP', 'CARDIOMOOD', 'CONCEPT2', 'COROS', 'CRONOMETER', 'DEXCOM', 'EATTHISMUCH', 'EIGHT', 'FATSECRET', 'FINALSURGE', 'FITBIT', 'FREESTYLELIBRE', 'GARMIN', 'GOOGLE', 'HAMMERHEAD', 'HUAWEI', 'IFIT', 'INBODY', 'KOMOOT', 'LIVEROWING', 'LEZYNE', 'MOXY', 'MYFITNESSPAL', 'NUTRACHECK', 'OMRON', 'OMRONUS', 'OURA', 'PELOTON', 'POLAR', 'PUL', 'RENPHO', 'RIDEWITHGPS', 'ROUVY', 'SUUNTO', 'TECHNOGYM', 'TEMPO', 'TRIDOT', 'TRAININGPEAKS', 'TRAINERROAD', 'UNDERARMOUR', 'VIRTUAGYM', 'WAHOO', 'WEAROS', 'WHOOP', 'WITHINGS', 'XOSS', 'ZWIFT', 'XERT', 'BRYTONSPORT', 'TODAYSPLAN', 'WGER', 'VELOHERO', 'CYCLINGANALYTICS', 'NOLIO', 'TRAINXHALE', 'KETOMOJOUS', 'KETOMOJOEU'], sdk_providers=['GOOGLEFIT', 'FREESTYLELIBRESDK', 'APPLE', 'SAMSUNG', 'REALTIME'])"
      ]
     },
     "execution_count": 10,
     "metadata": {},
     "output_type": "execute_result"
    }
   ],
   "source": [
    "resource_api_response = terra.list_providers()\n",
    "resource_api_response.get_parsed_response()"
   ]
  },
  {
   "cell_type": "code",
   "execution_count": 19,
   "metadata": {},
   "outputs": [
    {
     "data": {
      "text/plain": [
       "<terra.api.api_responses.TerraApiResponse at 0x10d802380>"
      ]
     },
     "execution_count": 19,
     "metadata": {},
     "output_type": "execute_result"
    }
   ],
   "source": [
    "users = terra.list_users()\n",
    "users"
   ]
  },
  {
   "cell_type": "code",
   "execution_count": 20,
   "metadata": {},
   "outputs": [
    {
     "data": {
      "text/plain": [
       "{'response_code': 200,\n",
       " 'raw_body': '{\"status\": \"success\", \"users\": [{\"last_webhook_update\": null, \"reference_id\": \"oura\", \"user_id\": \"ed441ee1-b535-4bbe-8ca4-06144e1e395d\", \"scopes\": \"workout,daily,heartrate,email,session,personal,tag\", \"provider\": \"OURA\"}]}',\n",
       " 'json': {'status': 'success',\n",
       "  'users': [{'last_webhook_update': None,\n",
       "    'reference_id': 'oura',\n",
       "    'user_id': 'ed441ee1-b535-4bbe-8ca4-06144e1e395d',\n",
       "    'scopes': 'workout,daily,heartrate,email,session,personal,tag',\n",
       "    'provider': 'OURA'}]},\n",
       " 'dtype': 'subscriptions',\n",
       " 'parsed_response': SubscribedUsers(users=[User()])}"
      ]
     },
     "execution_count": 20,
     "metadata": {},
     "output_type": "execute_result"
    }
   ],
   "source": [
    "users.__dict__"
   ]
  },
  {
   "cell_type": "code",
   "execution_count": 30,
   "metadata": {},
   "outputs": [
    {
     "name": "stdout",
     "output_type": "stream",
     "text": [
      "User()\n"
     ]
    }
   ],
   "source": [
    "print(users.parsed_response.users[0])"
   ]
  },
  {
   "cell_type": "code",
   "execution_count": 31,
   "metadata": {},
   "outputs": [],
   "source": [
    "user1 = users.parsed_response.users[0]"
   ]
  },
  {
   "cell_type": "code",
   "execution_count": 33,
   "metadata": {},
   "outputs": [
    {
     "name": "stdout",
     "output_type": "stream",
     "text": [
      "{'user_id': 'ed441ee1-b535-4bbe-8ca4-06144e1e395d', 'provider': 'OURA', 'last_webhook_update': None, 'scopes': 'workout,daily,heartrate,email,session,personal,tag', '_client': <terra.base_client.Terra object at 0x10e84b460>, '_resource': None}\n"
     ]
    }
   ],
   "source": [
    "print(user1.__dict__)"
   ]
  },
  {
   "cell_type": "code",
   "execution_count": 65,
   "metadata": {},
   "outputs": [],
   "source": [
    "data = terra.get_activity_for_user(user1, datetime.strptime('2023-02-01','%Y-%m-%d'), datetime.strptime('2023-02-02','%Y-%m-%d'), to_webhook = False)"
   ]
  },
  {
   "cell_type": "code",
   "execution_count": 66,
   "metadata": {},
   "outputs": [
    {
     "name": "stdout",
     "output_type": "stream",
     "text": [
      "<terra.api.api_responses.TerraApiResponse object at 0x10ecdb100>\n"
     ]
    }
   ],
   "source": [
    "print(data)"
   ]
  },
  {
   "cell_type": "code",
   "execution_count": 68,
   "metadata": {},
   "outputs": [
    {
     "data": {
      "text/plain": [
       "{'response_code': 200,\n",
       " 'raw_body': '{\"status\": \"success\", \"type\": \"activity\", \"data\": [{\"energy_data\": {\"energy_planned_kilojoules\": null, \"energy_kilojoules\": null}, \"oxygen_data\": {\"vo2max_ml_per_min_per_kg\": null, \"vo2_samples\": [], \"saturation_samples\": [], \"avg_saturation_percentage\": null}, \"cheat_detection\": null, \"movement_data\": {\"cadence_samples\": [], \"max_velocity_meters_per_second\": null, \"adjusted_max_speed_meters_per_second\": null, \"avg_speed_meters_per_second\": null, \"avg_velocity_meters_per_second\": null, \"max_torque_newton_meters\": null, \"torque_samples\": [], \"max_pace_minutes_per_kilometer\": null, \"avg_cadence_rpm\": null, \"avg_torque_newton_meters\": null, \"avg_pace_minutes_per_kilometer\": null, \"normalized_speed_meters_per_second\": null, \"max_cadence_rpm\": null, \"speed_samples\": [], \"max_speed_meters_per_second\": null}, \"power_data\": {\"max_watts\": null, \"power_samples\": [], \"avg_watts\": null}, \"device_data\": {\"manufacturer\": null, \"other_devices\": [], \"serial_number\": null, \"software_version\": null, \"hardware_version\": null, \"name\": null, \"activation_timestamp\": null}, \"TSS_data\": {\"TSS_samples\": []}, \"polyline_map_data\": {\"summary_polyline\": null}, \"distance_data\": {\"summary\": {\"steps\": null, \"elevation\": {\"max_meters\": null, \"avg_meters\": null, \"min_meters\": null, \"gain_planned_meters\": null, \"gain_actual_meters\": null, \"loss_actual_meters\": null}, \"floors_climbed\": null, \"swimming\": {\"num_laps\": null, \"pool_length_meters\": null, \"num_strokes\": null}, \"distance_meters\": 4443.470942519719}, \"detailed\": {\"floors_climbed_samples\": [], \"step_samples\": [], \"elevation_samples\": [], \"distance_samples\": []}}, \"MET_data\": {\"num_moderate_intensity_minutes\": null, \"num_high_intensity_minutes\": null, \"avg_level\": null, \"num_inactive_minutes\": null, \"num_low_intensity_minutes\": null, \"MET_samples\": []}, \"heart_rate_data\": {\"summary\": {\"min_hr_bpm\": null, \"resting_hr_bpm\": null, \"avg_hr_bpm\": null, \"hr_zone_data\": [], \"avg_hrv_sdnn\": null, \"avg_hrv_rmssd\": null, \"user_max_hr_bpm\": null, \"max_hr_bpm\": null}, \"detailed\": {\"hr_samples\": [], \"hrv_samples_sdnn\": [], \"hrv_samples_rmssd\": []}}, \"position_data\": {\"end_pos_lat_lng_deg\": [], \"start_pos_lat_lng_deg\": [], \"position_samples\": [], \"center_pos_lat_lng_deg\": []}, \"active_durations_data\": {\"activity_seconds\": null, \"moderate_intensity_seconds\": null, \"low_intensity_seconds\": null, \"rest_seconds\": null, \"num_continuous_inactive_periods\": null, \"inactivity_seconds\": null, \"activity_levels_samples\": [], \"vigorous_intensity_seconds\": null}, \"calories_data\": {\"net_intake_calories\": null, \"net_activity_calories\": null, \"BMR_calories\": null, \"calorie_samples\": [], \"total_burned_calories\": 104.75399999999999}, \"strain_data\": {\"strain_level\": null}, \"metadata\": {\"end_time\": \"2023-02-01T08:54:00+00:00\", \"summary_id\": null, \"type\": 7, \"state\": null, \"upload_type\": 1, \"city\": null, \"name\": \"walking\", \"country\": null, \"start_time\": \"2023-02-01T08:28:00+00:00\"}, \"lap_data\": {\"laps\": []}, \"work_data\": {\"work_kilojoules\": null}}, {\"energy_data\": {\"energy_planned_kilojoules\": null, \"energy_kilojoules\": null}, \"oxygen_data\": {\"vo2max_ml_per_min_per_kg\": null, \"vo2_samples\": [], \"saturation_samples\": [], \"avg_saturation_percentage\": null}, \"cheat_detection\": null, \"movement_data\": {\"cadence_samples\": [], \"max_velocity_meters_per_second\": null, \"adjusted_max_speed_meters_per_second\": null, \"avg_speed_meters_per_second\": null, \"avg_velocity_meters_per_second\": null, \"max_torque_newton_meters\": null, \"torque_samples\": [], \"max_pace_minutes_per_kilometer\": null, \"avg_cadence_rpm\": null, \"avg_torque_newton_meters\": null, \"avg_pace_minutes_per_kilometer\": null, \"normalized_speed_meters_per_second\": null, \"max_cadence_rpm\": null, \"speed_samples\": [], \"max_speed_meters_per_second\": null}, \"power_data\": {\"max_watts\": null, \"power_samples\": [], \"avg_watts\": null}, \"device_data\": {\"manufacturer\": null, \"other_devices\": [], \"serial_number\": null, \"software_version\": null, \"hardware_version\": null, \"name\": null, \"activation_timestamp\": null}, \"TSS_data\": {\"TSS_samples\": []}, \"polyline_map_data\": {\"summary_polyline\": null}, \"distance_data\": {\"summary\": {\"steps\": null, \"elevation\": {\"max_meters\": null, \"avg_meters\": null, \"min_meters\": null, \"gain_planned_meters\": null, \"gain_actual_meters\": null, \"loss_actual_meters\": null}, \"floors_climbed\": null, \"swimming\": {\"num_laps\": null, \"pool_length_meters\": null, \"num_strokes\": null}, \"distance_meters\": null}, \"detailed\": {\"floors_climbed_samples\": [], \"step_samples\": [], \"elevation_samples\": [], \"distance_samples\": []}}, \"MET_data\": {\"num_moderate_intensity_minutes\": null, \"num_high_intensity_minutes\": null, \"avg_level\": null, \"num_inactive_minutes\": null, \"num_low_intensity_minutes\": null, \"MET_samples\": []}, \"heart_rate_data\": {\"summary\": {\"min_hr_bpm\": null, \"resting_hr_bpm\": null, \"avg_hr_bpm\": null, \"hr_zone_data\": [], \"avg_hrv_sdnn\": null, \"avg_hrv_rmssd\": null, \"user_max_hr_bpm\": null, \"max_hr_bpm\": null}, \"detailed\": {\"hr_samples\": [], \"hrv_samples_sdnn\": [], \"hrv_samples_rmssd\": []}}, \"position_data\": {\"end_pos_lat_lng_deg\": [], \"start_pos_lat_lng_deg\": [], \"position_samples\": [], \"center_pos_lat_lng_deg\": []}, \"active_durations_data\": {\"activity_seconds\": null, \"moderate_intensity_seconds\": null, \"low_intensity_seconds\": null, \"rest_seconds\": null, \"num_continuous_inactive_periods\": null, \"inactivity_seconds\": null, \"activity_levels_samples\": [], \"vigorous_intensity_seconds\": null}, \"calories_data\": {\"net_intake_calories\": null, \"net_activity_calories\": null, \"BMR_calories\": null, \"calorie_samples\": [], \"total_burned_calories\": 48.348}, \"strain_data\": {\"strain_level\": null}, \"metadata\": {\"end_time\": \"2023-02-01T20:04:00+00:00\", \"summary_id\": null, \"type\": 7, \"state\": null, \"upload_type\": 1, \"city\": null, \"name\": \"walking\", \"country\": null, \"start_time\": \"2023-02-01T19:52:00+00:00\"}, \"lap_data\": {\"laps\": []}, \"work_data\": {\"work_kilojoules\": null}}, {\"energy_data\": {\"energy_planned_kilojoules\": null, \"energy_kilojoules\": null}, \"oxygen_data\": {\"vo2max_ml_per_min_per_kg\": null, \"vo2_samples\": [], \"saturation_samples\": [], \"avg_saturation_percentage\": null}, \"cheat_detection\": null, \"movement_data\": {\"cadence_samples\": [], \"max_velocity_meters_per_second\": null, \"adjusted_max_speed_meters_per_second\": null, \"avg_speed_meters_per_second\": null, \"avg_velocity_meters_per_second\": null, \"max_torque_newton_meters\": null, \"torque_samples\": [], \"max_pace_minutes_per_kilometer\": null, \"avg_cadence_rpm\": null, \"avg_torque_newton_meters\": null, \"avg_pace_minutes_per_kilometer\": null, \"normalized_speed_meters_per_second\": null, \"max_cadence_rpm\": null, \"speed_samples\": [], \"max_speed_meters_per_second\": null}, \"power_data\": {\"max_watts\": null, \"power_samples\": [], \"avg_watts\": null}, \"device_data\": {\"manufacturer\": null, \"other_devices\": [], \"serial_number\": null, \"software_version\": null, \"hardware_version\": null, \"name\": null, \"activation_timestamp\": null}, \"TSS_data\": {\"TSS_samples\": []}, \"polyline_map_data\": {\"summary_polyline\": null}, \"distance_data\": {\"summary\": {\"steps\": null, \"elevation\": {\"max_meters\": null, \"avg_meters\": null, \"min_meters\": null, \"gain_planned_meters\": null, \"gain_actual_meters\": null, \"loss_actual_meters\": null}, \"floors_climbed\": null, \"swimming\": {\"num_laps\": null, \"pool_length_meters\": null, \"num_strokes\": null}, \"distance_meters\": 1049.3077826180706}, \"detailed\": {\"floors_climbed_samples\": [], \"step_samples\": [], \"elevation_samples\": [], \"distance_samples\": []}}, \"MET_data\": {\"num_moderate_intensity_minutes\": null, \"num_high_intensity_minutes\": null, \"avg_level\": null, \"num_inactive_minutes\": null, \"num_low_intensity_minutes\": null, \"MET_samples\": []}, \"heart_rate_data\": {\"summary\": {\"min_hr_bpm\": 60, \"resting_hr_bpm\": null, \"avg_hr_bpm\": 78.5, \"hr_zone_data\": [], \"avg_hrv_sdnn\": null, \"avg_hrv_rmssd\": null, \"user_max_hr_bpm\": null, \"max_hr_bpm\": 97}, \"detailed\": {\"hr_samples\": [{\"timestamp\": \"2023-02-01T20:54:13+00:00\", \"bpm\": 97}, {\"timestamp\": \"2023-02-01T20:54:39+00:00\", \"bpm\": 60}], \"hrv_samples_sdnn\": [], \"hrv_samples_rmssd\": []}}, \"position_data\": {\"end_pos_lat_lng_deg\": [], \"start_pos_lat_lng_deg\": [], \"position_samples\": [], \"center_pos_lat_lng_deg\": []}, \"active_durations_data\": {\"activity_seconds\": null, \"moderate_intensity_seconds\": null, \"low_intensity_seconds\": null, \"rest_seconds\": null, \"num_continuous_inactive_periods\": null, \"inactivity_seconds\": null, \"activity_levels_samples\": [], \"vigorous_intensity_seconds\": null}, \"calories_data\": {\"net_intake_calories\": null, \"net_activity_calories\": null, \"BMR_calories\": null, \"calorie_samples\": [], \"total_burned_calories\": 80.58}, \"strain_data\": {\"strain_level\": null}, \"metadata\": {\"end_time\": \"2023-02-01T21:05:00+00:00\", \"summary_id\": null, \"type\": 7, \"state\": null, \"upload_type\": 1, \"city\": null, \"name\": \"walking\", \"country\": null, \"start_time\": \"2023-02-01T20:45:00+00:00\"}, \"lap_data\": {\"laps\": []}, \"work_data\": {\"work_kilojoules\": null}}, {\"energy_data\": {\"energy_planned_kilojoules\": null, \"energy_kilojoules\": null}, \"oxygen_data\": {\"vo2max_ml_per_min_per_kg\": null, \"vo2_samples\": [], \"saturation_samples\": [], \"avg_saturation_percentage\": null}, \"cheat_detection\": null, \"movement_data\": {\"cadence_samples\": [], \"max_velocity_meters_per_second\": null, \"adjusted_max_speed_meters_per_second\": null, \"avg_speed_meters_per_second\": null, \"avg_velocity_meters_per_second\": null, \"max_torque_newton_meters\": null, \"torque_samples\": [], \"max_pace_minutes_per_kilometer\": null, \"avg_cadence_rpm\": null, \"avg_torque_newton_meters\": null, \"avg_pace_minutes_per_kilometer\": null, \"normalized_speed_meters_per_second\": null, \"max_cadence_rpm\": null, \"speed_samples\": [], \"max_speed_meters_per_second\": null}, \"power_data\": {\"max_watts\": null, \"power_samples\": [], \"avg_watts\": null}, \"device_data\": {\"manufacturer\": null, \"other_devices\": [], \"serial_number\": null, \"software_version\": null, \"hardware_version\": null, \"name\": null, \"activation_timestamp\": null}, \"TSS_data\": {\"TSS_samples\": []}, \"polyline_map_data\": {\"summary_polyline\": null}, \"distance_data\": {\"summary\": {\"steps\": null, \"elevation\": {\"max_meters\": null, \"avg_meters\": null, \"min_meters\": null, \"gain_planned_meters\": null, \"gain_actual_meters\": null, \"loss_actual_meters\": null}, \"floors_climbed\": null, \"swimming\": {\"num_laps\": null, \"pool_length_meters\": null, \"num_strokes\": null}, \"distance_meters\": 3027.2101340383515}, \"detailed\": {\"floors_climbed_samples\": [], \"step_samples\": [], \"elevation_samples\": [], \"distance_samples\": []}}, \"MET_data\": {\"num_moderate_intensity_minutes\": null, \"num_high_intensity_minutes\": null, \"avg_level\": null, \"num_inactive_minutes\": null, \"num_low_intensity_minutes\": null, \"MET_samples\": []}, \"heart_rate_data\": {\"summary\": {\"min_hr_bpm\": 66, \"resting_hr_bpm\": null, \"avg_hr_bpm\": 74.0, \"hr_zone_data\": [], \"avg_hrv_sdnn\": null, \"avg_hrv_rmssd\": null, \"user_max_hr_bpm\": null, \"max_hr_bpm\": 88}, \"detailed\": {\"hr_samples\": [{\"timestamp\": \"2023-02-01T21:58:11+00:00\", \"bpm\": 68}, {\"timestamp\": \"2023-02-01T21:58:14+00:00\", \"bpm\": 66}, {\"timestamp\": \"2023-02-01T21:58:16+00:00\", \"bpm\": 88}], \"hrv_samples_sdnn\": [], \"hrv_samples_rmssd\": []}}, \"position_data\": {\"end_pos_lat_lng_deg\": [], \"start_pos_lat_lng_deg\": [], \"position_samples\": [], \"center_pos_lat_lng_deg\": []}, \"active_durations_data\": {\"activity_seconds\": null, \"moderate_intensity_seconds\": null, \"low_intensity_seconds\": null, \"rest_seconds\": null, \"num_continuous_inactive_periods\": null, \"inactivity_seconds\": null, \"activity_levels_samples\": [], \"vigorous_intensity_seconds\": null}, \"calories_data\": {\"net_intake_calories\": null, \"net_activity_calories\": null, \"BMR_calories\": null, \"calorie_samples\": [], \"total_burned_calories\": 173.24699999999999}, \"strain_data\": {\"strain_level\": null}, \"metadata\": {\"end_time\": \"2023-02-01T22:04:00+00:00\", \"summary_id\": null, \"type\": 7, \"state\": null, \"upload_type\": 1, \"city\": null, \"name\": \"walking\", \"country\": null, \"start_time\": \"2023-02-01T21:21:00+00:00\"}, \"lap_data\": {\"laps\": []}, \"work_data\": {\"work_kilojoules\": null}}], \"user\": {\"last_webhook_update\": null, \"scopes\": \"workout,daily,heartrate,email,session,personal,tag\", \"provider\": \"OURA\", \"user_id\": \"ed441ee1-b535-4bbe-8ca4-06144e1e395d\", \"reference_id\": \"oura\"}}',\n",
       " 'json': {'status': 'success',\n",
       "  'type': 'activity',\n",
       "  'data': [{'energy_data': {'energy_planned_kilojoules': None,\n",
       "     'energy_kilojoules': None},\n",
       "    'oxygen_data': {'vo2max_ml_per_min_per_kg': None,\n",
       "     'vo2_samples': [],\n",
       "     'saturation_samples': [],\n",
       "     'avg_saturation_percentage': None},\n",
       "    'cheat_detection': None,\n",
       "    'movement_data': {'cadence_samples': [],\n",
       "     'max_velocity_meters_per_second': None,\n",
       "     'adjusted_max_speed_meters_per_second': None,\n",
       "     'avg_speed_meters_per_second': None,\n",
       "     'avg_velocity_meters_per_second': None,\n",
       "     'max_torque_newton_meters': None,\n",
       "     'torque_samples': [],\n",
       "     'max_pace_minutes_per_kilometer': None,\n",
       "     'avg_cadence_rpm': None,\n",
       "     'avg_torque_newton_meters': None,\n",
       "     'avg_pace_minutes_per_kilometer': None,\n",
       "     'normalized_speed_meters_per_second': None,\n",
       "     'max_cadence_rpm': None,\n",
       "     'speed_samples': [],\n",
       "     'max_speed_meters_per_second': None},\n",
       "    'power_data': {'max_watts': None, 'power_samples': [], 'avg_watts': None},\n",
       "    'device_data': {'manufacturer': None,\n",
       "     'other_devices': [],\n",
       "     'serial_number': None,\n",
       "     'software_version': None,\n",
       "     'hardware_version': None,\n",
       "     'name': None,\n",
       "     'activation_timestamp': None},\n",
       "    'TSS_data': {'TSS_samples': []},\n",
       "    'polyline_map_data': {'summary_polyline': None},\n",
       "    'distance_data': {'summary': {'steps': None,\n",
       "      'elevation': {'max_meters': None,\n",
       "       'avg_meters': None,\n",
       "       'min_meters': None,\n",
       "       'gain_planned_meters': None,\n",
       "       'gain_actual_meters': None,\n",
       "       'loss_actual_meters': None},\n",
       "      'floors_climbed': None,\n",
       "      'swimming': {'num_laps': None,\n",
       "       'pool_length_meters': None,\n",
       "       'num_strokes': None},\n",
       "      'distance_meters': 4443.470942519719},\n",
       "     'detailed': {'floors_climbed_samples': [],\n",
       "      'step_samples': [],\n",
       "      'elevation_samples': [],\n",
       "      'distance_samples': []}},\n",
       "    'MET_data': {'num_moderate_intensity_minutes': None,\n",
       "     'num_high_intensity_minutes': None,\n",
       "     'avg_level': None,\n",
       "     'num_inactive_minutes': None,\n",
       "     'num_low_intensity_minutes': None,\n",
       "     'MET_samples': []},\n",
       "    'heart_rate_data': {'summary': {'min_hr_bpm': None,\n",
       "      'resting_hr_bpm': None,\n",
       "      'avg_hr_bpm': None,\n",
       "      'hr_zone_data': [],\n",
       "      'avg_hrv_sdnn': None,\n",
       "      'avg_hrv_rmssd': None,\n",
       "      'user_max_hr_bpm': None,\n",
       "      'max_hr_bpm': None},\n",
       "     'detailed': {'hr_samples': [],\n",
       "      'hrv_samples_sdnn': [],\n",
       "      'hrv_samples_rmssd': []}},\n",
       "    'position_data': {'end_pos_lat_lng_deg': [],\n",
       "     'start_pos_lat_lng_deg': [],\n",
       "     'position_samples': [],\n",
       "     'center_pos_lat_lng_deg': []},\n",
       "    'active_durations_data': {'activity_seconds': None,\n",
       "     'moderate_intensity_seconds': None,\n",
       "     'low_intensity_seconds': None,\n",
       "     'rest_seconds': None,\n",
       "     'num_continuous_inactive_periods': None,\n",
       "     'inactivity_seconds': None,\n",
       "     'activity_levels_samples': [],\n",
       "     'vigorous_intensity_seconds': None},\n",
       "    'calories_data': {'net_intake_calories': None,\n",
       "     'net_activity_calories': None,\n",
       "     'BMR_calories': None,\n",
       "     'calorie_samples': [],\n",
       "     'total_burned_calories': 104.75399999999999},\n",
       "    'strain_data': {'strain_level': None},\n",
       "    'metadata': {'end_time': '2023-02-01T08:54:00+00:00',\n",
       "     'summary_id': None,\n",
       "     'type': 7,\n",
       "     'state': None,\n",
       "     'upload_type': 1,\n",
       "     'city': None,\n",
       "     'name': 'walking',\n",
       "     'country': None,\n",
       "     'start_time': '2023-02-01T08:28:00+00:00'},\n",
       "    'lap_data': {'laps': []},\n",
       "    'work_data': {'work_kilojoules': None}},\n",
       "   {'energy_data': {'energy_planned_kilojoules': None,\n",
       "     'energy_kilojoules': None},\n",
       "    'oxygen_data': {'vo2max_ml_per_min_per_kg': None,\n",
       "     'vo2_samples': [],\n",
       "     'saturation_samples': [],\n",
       "     'avg_saturation_percentage': None},\n",
       "    'cheat_detection': None,\n",
       "    'movement_data': {'cadence_samples': [],\n",
       "     'max_velocity_meters_per_second': None,\n",
       "     'adjusted_max_speed_meters_per_second': None,\n",
       "     'avg_speed_meters_per_second': None,\n",
       "     'avg_velocity_meters_per_second': None,\n",
       "     'max_torque_newton_meters': None,\n",
       "     'torque_samples': [],\n",
       "     'max_pace_minutes_per_kilometer': None,\n",
       "     'avg_cadence_rpm': None,\n",
       "     'avg_torque_newton_meters': None,\n",
       "     'avg_pace_minutes_per_kilometer': None,\n",
       "     'normalized_speed_meters_per_second': None,\n",
       "     'max_cadence_rpm': None,\n",
       "     'speed_samples': [],\n",
       "     'max_speed_meters_per_second': None},\n",
       "    'power_data': {'max_watts': None, 'power_samples': [], 'avg_watts': None},\n",
       "    'device_data': {'manufacturer': None,\n",
       "     'other_devices': [],\n",
       "     'serial_number': None,\n",
       "     'software_version': None,\n",
       "     'hardware_version': None,\n",
       "     'name': None,\n",
       "     'activation_timestamp': None},\n",
       "    'TSS_data': {'TSS_samples': []},\n",
       "    'polyline_map_data': {'summary_polyline': None},\n",
       "    'distance_data': {'summary': {'steps': None,\n",
       "      'elevation': {'max_meters': None,\n",
       "       'avg_meters': None,\n",
       "       'min_meters': None,\n",
       "       'gain_planned_meters': None,\n",
       "       'gain_actual_meters': None,\n",
       "       'loss_actual_meters': None},\n",
       "      'floors_climbed': None,\n",
       "      'swimming': {'num_laps': None,\n",
       "       'pool_length_meters': None,\n",
       "       'num_strokes': None},\n",
       "      'distance_meters': None},\n",
       "     'detailed': {'floors_climbed_samples': [],\n",
       "      'step_samples': [],\n",
       "      'elevation_samples': [],\n",
       "      'distance_samples': []}},\n",
       "    'MET_data': {'num_moderate_intensity_minutes': None,\n",
       "     'num_high_intensity_minutes': None,\n",
       "     'avg_level': None,\n",
       "     'num_inactive_minutes': None,\n",
       "     'num_low_intensity_minutes': None,\n",
       "     'MET_samples': []},\n",
       "    'heart_rate_data': {'summary': {'min_hr_bpm': None,\n",
       "      'resting_hr_bpm': None,\n",
       "      'avg_hr_bpm': None,\n",
       "      'hr_zone_data': [],\n",
       "      'avg_hrv_sdnn': None,\n",
       "      'avg_hrv_rmssd': None,\n",
       "      'user_max_hr_bpm': None,\n",
       "      'max_hr_bpm': None},\n",
       "     'detailed': {'hr_samples': [],\n",
       "      'hrv_samples_sdnn': [],\n",
       "      'hrv_samples_rmssd': []}},\n",
       "    'position_data': {'end_pos_lat_lng_deg': [],\n",
       "     'start_pos_lat_lng_deg': [],\n",
       "     'position_samples': [],\n",
       "     'center_pos_lat_lng_deg': []},\n",
       "    'active_durations_data': {'activity_seconds': None,\n",
       "     'moderate_intensity_seconds': None,\n",
       "     'low_intensity_seconds': None,\n",
       "     'rest_seconds': None,\n",
       "     'num_continuous_inactive_periods': None,\n",
       "     'inactivity_seconds': None,\n",
       "     'activity_levels_samples': [],\n",
       "     'vigorous_intensity_seconds': None},\n",
       "    'calories_data': {'net_intake_calories': None,\n",
       "     'net_activity_calories': None,\n",
       "     'BMR_calories': None,\n",
       "     'calorie_samples': [],\n",
       "     'total_burned_calories': 48.348},\n",
       "    'strain_data': {'strain_level': None},\n",
       "    'metadata': {'end_time': '2023-02-01T20:04:00+00:00',\n",
       "     'summary_id': None,\n",
       "     'type': 7,\n",
       "     'state': None,\n",
       "     'upload_type': 1,\n",
       "     'city': None,\n",
       "     'name': 'walking',\n",
       "     'country': None,\n",
       "     'start_time': '2023-02-01T19:52:00+00:00'},\n",
       "    'lap_data': {'laps': []},\n",
       "    'work_data': {'work_kilojoules': None}},\n",
       "   {'energy_data': {'energy_planned_kilojoules': None,\n",
       "     'energy_kilojoules': None},\n",
       "    'oxygen_data': {'vo2max_ml_per_min_per_kg': None,\n",
       "     'vo2_samples': [],\n",
       "     'saturation_samples': [],\n",
       "     'avg_saturation_percentage': None},\n",
       "    'cheat_detection': None,\n",
       "    'movement_data': {'cadence_samples': [],\n",
       "     'max_velocity_meters_per_second': None,\n",
       "     'adjusted_max_speed_meters_per_second': None,\n",
       "     'avg_speed_meters_per_second': None,\n",
       "     'avg_velocity_meters_per_second': None,\n",
       "     'max_torque_newton_meters': None,\n",
       "     'torque_samples': [],\n",
       "     'max_pace_minutes_per_kilometer': None,\n",
       "     'avg_cadence_rpm': None,\n",
       "     'avg_torque_newton_meters': None,\n",
       "     'avg_pace_minutes_per_kilometer': None,\n",
       "     'normalized_speed_meters_per_second': None,\n",
       "     'max_cadence_rpm': None,\n",
       "     'speed_samples': [],\n",
       "     'max_speed_meters_per_second': None},\n",
       "    'power_data': {'max_watts': None, 'power_samples': [], 'avg_watts': None},\n",
       "    'device_data': {'manufacturer': None,\n",
       "     'other_devices': [],\n",
       "     'serial_number': None,\n",
       "     'software_version': None,\n",
       "     'hardware_version': None,\n",
       "     'name': None,\n",
       "     'activation_timestamp': None},\n",
       "    'TSS_data': {'TSS_samples': []},\n",
       "    'polyline_map_data': {'summary_polyline': None},\n",
       "    'distance_data': {'summary': {'steps': None,\n",
       "      'elevation': {'max_meters': None,\n",
       "       'avg_meters': None,\n",
       "       'min_meters': None,\n",
       "       'gain_planned_meters': None,\n",
       "       'gain_actual_meters': None,\n",
       "       'loss_actual_meters': None},\n",
       "      'floors_climbed': None,\n",
       "      'swimming': {'num_laps': None,\n",
       "       'pool_length_meters': None,\n",
       "       'num_strokes': None},\n",
       "      'distance_meters': 1049.3077826180706},\n",
       "     'detailed': {'floors_climbed_samples': [],\n",
       "      'step_samples': [],\n",
       "      'elevation_samples': [],\n",
       "      'distance_samples': []}},\n",
       "    'MET_data': {'num_moderate_intensity_minutes': None,\n",
       "     'num_high_intensity_minutes': None,\n",
       "     'avg_level': None,\n",
       "     'num_inactive_minutes': None,\n",
       "     'num_low_intensity_minutes': None,\n",
       "     'MET_samples': []},\n",
       "    'heart_rate_data': {'summary': {'min_hr_bpm': 60,\n",
       "      'resting_hr_bpm': None,\n",
       "      'avg_hr_bpm': 78.5,\n",
       "      'hr_zone_data': [],\n",
       "      'avg_hrv_sdnn': None,\n",
       "      'avg_hrv_rmssd': None,\n",
       "      'user_max_hr_bpm': None,\n",
       "      'max_hr_bpm': 97},\n",
       "     'detailed': {'hr_samples': [{'timestamp': '2023-02-01T20:54:13+00:00',\n",
       "        'bpm': 97},\n",
       "       {'timestamp': '2023-02-01T20:54:39+00:00', 'bpm': 60}],\n",
       "      'hrv_samples_sdnn': [],\n",
       "      'hrv_samples_rmssd': []}},\n",
       "    'position_data': {'end_pos_lat_lng_deg': [],\n",
       "     'start_pos_lat_lng_deg': [],\n",
       "     'position_samples': [],\n",
       "     'center_pos_lat_lng_deg': []},\n",
       "    'active_durations_data': {'activity_seconds': None,\n",
       "     'moderate_intensity_seconds': None,\n",
       "     'low_intensity_seconds': None,\n",
       "     'rest_seconds': None,\n",
       "     'num_continuous_inactive_periods': None,\n",
       "     'inactivity_seconds': None,\n",
       "     'activity_levels_samples': [],\n",
       "     'vigorous_intensity_seconds': None},\n",
       "    'calories_data': {'net_intake_calories': None,\n",
       "     'net_activity_calories': None,\n",
       "     'BMR_calories': None,\n",
       "     'calorie_samples': [],\n",
       "     'total_burned_calories': 80.58},\n",
       "    'strain_data': {'strain_level': None},\n",
       "    'metadata': {'end_time': '2023-02-01T21:05:00+00:00',\n",
       "     'summary_id': None,\n",
       "     'type': 7,\n",
       "     'state': None,\n",
       "     'upload_type': 1,\n",
       "     'city': None,\n",
       "     'name': 'walking',\n",
       "     'country': None,\n",
       "     'start_time': '2023-02-01T20:45:00+00:00'},\n",
       "    'lap_data': {'laps': []},\n",
       "    'work_data': {'work_kilojoules': None}},\n",
       "   {'energy_data': {'energy_planned_kilojoules': None,\n",
       "     'energy_kilojoules': None},\n",
       "    'oxygen_data': {'vo2max_ml_per_min_per_kg': None,\n",
       "     'vo2_samples': [],\n",
       "     'saturation_samples': [],\n",
       "     'avg_saturation_percentage': None},\n",
       "    'cheat_detection': None,\n",
       "    'movement_data': {'cadence_samples': [],\n",
       "     'max_velocity_meters_per_second': None,\n",
       "     'adjusted_max_speed_meters_per_second': None,\n",
       "     'avg_speed_meters_per_second': None,\n",
       "     'avg_velocity_meters_per_second': None,\n",
       "     'max_torque_newton_meters': None,\n",
       "     'torque_samples': [],\n",
       "     'max_pace_minutes_per_kilometer': None,\n",
       "     'avg_cadence_rpm': None,\n",
       "     'avg_torque_newton_meters': None,\n",
       "     'avg_pace_minutes_per_kilometer': None,\n",
       "     'normalized_speed_meters_per_second': None,\n",
       "     'max_cadence_rpm': None,\n",
       "     'speed_samples': [],\n",
       "     'max_speed_meters_per_second': None},\n",
       "    'power_data': {'max_watts': None, 'power_samples': [], 'avg_watts': None},\n",
       "    'device_data': {'manufacturer': None,\n",
       "     'other_devices': [],\n",
       "     'serial_number': None,\n",
       "     'software_version': None,\n",
       "     'hardware_version': None,\n",
       "     'name': None,\n",
       "     'activation_timestamp': None},\n",
       "    'TSS_data': {'TSS_samples': []},\n",
       "    'polyline_map_data': {'summary_polyline': None},\n",
       "    'distance_data': {'summary': {'steps': None,\n",
       "      'elevation': {'max_meters': None,\n",
       "       'avg_meters': None,\n",
       "       'min_meters': None,\n",
       "       'gain_planned_meters': None,\n",
       "       'gain_actual_meters': None,\n",
       "       'loss_actual_meters': None},\n",
       "      'floors_climbed': None,\n",
       "      'swimming': {'num_laps': None,\n",
       "       'pool_length_meters': None,\n",
       "       'num_strokes': None},\n",
       "      'distance_meters': 3027.2101340383515},\n",
       "     'detailed': {'floors_climbed_samples': [],\n",
       "      'step_samples': [],\n",
       "      'elevation_samples': [],\n",
       "      'distance_samples': []}},\n",
       "    'MET_data': {'num_moderate_intensity_minutes': None,\n",
       "     'num_high_intensity_minutes': None,\n",
       "     'avg_level': None,\n",
       "     'num_inactive_minutes': None,\n",
       "     'num_low_intensity_minutes': None,\n",
       "     'MET_samples': []},\n",
       "    'heart_rate_data': {'summary': {'min_hr_bpm': 66,\n",
       "      'resting_hr_bpm': None,\n",
       "      'avg_hr_bpm': 74.0,\n",
       "      'hr_zone_data': [],\n",
       "      'avg_hrv_sdnn': None,\n",
       "      'avg_hrv_rmssd': None,\n",
       "      'user_max_hr_bpm': None,\n",
       "      'max_hr_bpm': 88},\n",
       "     'detailed': {'hr_samples': [{'timestamp': '2023-02-01T21:58:11+00:00',\n",
       "        'bpm': 68},\n",
       "       {'timestamp': '2023-02-01T21:58:14+00:00', 'bpm': 66},\n",
       "       {'timestamp': '2023-02-01T21:58:16+00:00', 'bpm': 88}],\n",
       "      'hrv_samples_sdnn': [],\n",
       "      'hrv_samples_rmssd': []}},\n",
       "    'position_data': {'end_pos_lat_lng_deg': [],\n",
       "     'start_pos_lat_lng_deg': [],\n",
       "     'position_samples': [],\n",
       "     'center_pos_lat_lng_deg': []},\n",
       "    'active_durations_data': {'activity_seconds': None,\n",
       "     'moderate_intensity_seconds': None,\n",
       "     'low_intensity_seconds': None,\n",
       "     'rest_seconds': None,\n",
       "     'num_continuous_inactive_periods': None,\n",
       "     'inactivity_seconds': None,\n",
       "     'activity_levels_samples': [],\n",
       "     'vigorous_intensity_seconds': None},\n",
       "    'calories_data': {'net_intake_calories': None,\n",
       "     'net_activity_calories': None,\n",
       "     'BMR_calories': None,\n",
       "     'calorie_samples': [],\n",
       "     'total_burned_calories': 173.24699999999999},\n",
       "    'strain_data': {'strain_level': None},\n",
       "    'metadata': {'end_time': '2023-02-01T22:04:00+00:00',\n",
       "     'summary_id': None,\n",
       "     'type': 7,\n",
       "     'state': None,\n",
       "     'upload_type': 1,\n",
       "     'city': None,\n",
       "     'name': 'walking',\n",
       "     'country': None,\n",
       "     'start_time': '2023-02-01T21:21:00+00:00'},\n",
       "    'lap_data': {'laps': []},\n",
       "    'work_data': {'work_kilojoules': None}}],\n",
       "  'user': {'last_webhook_update': None,\n",
       "   'scopes': 'workout,daily,heartrate,email,session,personal,tag',\n",
       "   'provider': 'OURA',\n",
       "   'user_id': 'ed441ee1-b535-4bbe-8ca4-06144e1e395d',\n",
       "   'reference_id': 'oura'}},\n",
       " 'dtype': 'activity',\n",
       " 'parsed_response': DataReturned(user=User(), type='activity', data=[Activity(metadata=Metadata(name='walking', type=7, summary_id=None, start_time='2023-02-01T08:28:00+00:00', end_time='2023-02-01T08:54:00+00:00', city=None, state=None, country=None, upload_type=1), lap_data=LapData(laps=[]), distance_data=DistanceData(summary=DistanceDataSummary(distance_meters=4443.470942519719, steps=None, floors_climbed=None, swimming=SwimmingSummary(num_laps=None, num_strokes=None, pool_length_meters=None), elevation=ElevationSummary(gain_planned_meters=None, gain_actual_meters=None, loss_actual_meters=None, min_meters=None, avg_meters=None, max_meters=None)), detailed=DistanceDataDetailed(step_samples=[], distance_samples=[], elevation_samples=[], floors_climbed_samples=[])), position_data=PositionData(start_pos_lat_lng_deg=[], center_pos_lat_lng_deg=[], end_pos_lat_lng_deg=[], position_samples=[]), active_durations_data=ActiveDurationsData(activity_seconds=None, inactivity_seconds=None, rest_seconds=None, low_intensity_seconds=None, moderate_intensity_seconds=None, vigorous_intensity_seconds=None, num_continuous_inactive_periods=None, activity_levels_samples=[]), MET_data=METData(avg_level=None, num_inactive_minutes=None, num_low_intensity_minutes=None, num_moderate_intensity_minutes=None, num_high_intensity_minutes=None, MET_samples=[]), movement_data=MovementData(avg_speed_meters_per_second=None, max_speed_meters_per_second=None, normalized_speed_meters_per_second=None, avg_pace_minutes_per_kilometer=None, max_pace_minutes_per_kilometer=None, avg_velocity_meters_per_second=None, max_velocity_meters_per_second=None, avg_cadence_rpm=None, max_cadence_rpm=None, avg_torque_newton_meters=None, max_torque_newton_meters=None, cadence_samples=[], speed_samples=[]), calories_data=CaloriesData(net_activity_calories=None, BMR_calories=None, total_burned_calories=104.75399999999999, net_intake_calories=None, calorie_samples=[]), work_data=WorkData(work_kilojoules=None), power_data=PowerData(avg_watts=None, max_watts=None, power_samples=[]), energy_data=EnergyData(energy_kilojoules=None, energy_planned_kilojoules=None), TSS_data=TSSData(TSS_samples=[]), heart_rate_data=HeartRateData(summary=HeartRateDataSummary(avg_hr_bpm=None, max_hr_bpm=None, min_hr_bpm=None, avg_hrv_rmssd=None, avg_hrv_sdnn=None, user_max_hr_bpm=None, resting_hr_bpm=None, hr_zone_data=[]), detailed=HeartRateDataDetailed(hr_samples=[], hrv_samples_rmssd=[], hrv_samples_sdnn=[])), strain_data=StrainData(strain_level=None), oxygen_data=OxygenData(vo2max_ml_per_min_per_kg=None, avg_saturation_percentage=None, saturation_samples=[], vo2_samples=[]), polyline_map_data=PolylineMapData(summary_polyline=None), device_data=DeviceData(name=None, activation_timestamp=None, manufacturer=None, serial_number=None, software_version=None, hardware_version=None, other_devices=[])), Activity(metadata=Metadata(name='walking', type=7, summary_id=None, start_time='2023-02-01T19:52:00+00:00', end_time='2023-02-01T20:04:00+00:00', city=None, state=None, country=None, upload_type=1), lap_data=LapData(laps=[]), distance_data=DistanceData(summary=DistanceDataSummary(distance_meters=None, steps=None, floors_climbed=None, swimming=SwimmingSummary(num_laps=None, num_strokes=None, pool_length_meters=None), elevation=ElevationSummary(gain_planned_meters=None, gain_actual_meters=None, loss_actual_meters=None, min_meters=None, avg_meters=None, max_meters=None)), detailed=DistanceDataDetailed(step_samples=[], distance_samples=[], elevation_samples=[], floors_climbed_samples=[])), position_data=PositionData(start_pos_lat_lng_deg=[], center_pos_lat_lng_deg=[], end_pos_lat_lng_deg=[], position_samples=[]), active_durations_data=ActiveDurationsData(activity_seconds=None, inactivity_seconds=None, rest_seconds=None, low_intensity_seconds=None, moderate_intensity_seconds=None, vigorous_intensity_seconds=None, num_continuous_inactive_periods=None, activity_levels_samples=[]), MET_data=METData(avg_level=None, num_inactive_minutes=None, num_low_intensity_minutes=None, num_moderate_intensity_minutes=None, num_high_intensity_minutes=None, MET_samples=[]), movement_data=MovementData(avg_speed_meters_per_second=None, max_speed_meters_per_second=None, normalized_speed_meters_per_second=None, avg_pace_minutes_per_kilometer=None, max_pace_minutes_per_kilometer=None, avg_velocity_meters_per_second=None, max_velocity_meters_per_second=None, avg_cadence_rpm=None, max_cadence_rpm=None, avg_torque_newton_meters=None, max_torque_newton_meters=None, cadence_samples=[], speed_samples=[]), calories_data=CaloriesData(net_activity_calories=None, BMR_calories=None, total_burned_calories=48.348, net_intake_calories=None, calorie_samples=[]), work_data=WorkData(work_kilojoules=None), power_data=PowerData(avg_watts=None, max_watts=None, power_samples=[]), energy_data=EnergyData(energy_kilojoules=None, energy_planned_kilojoules=None), TSS_data=TSSData(TSS_samples=[]), heart_rate_data=HeartRateData(summary=HeartRateDataSummary(avg_hr_bpm=None, max_hr_bpm=None, min_hr_bpm=None, avg_hrv_rmssd=None, avg_hrv_sdnn=None, user_max_hr_bpm=None, resting_hr_bpm=None, hr_zone_data=[]), detailed=HeartRateDataDetailed(hr_samples=[], hrv_samples_rmssd=[], hrv_samples_sdnn=[])), strain_data=StrainData(strain_level=None), oxygen_data=OxygenData(vo2max_ml_per_min_per_kg=None, avg_saturation_percentage=None, saturation_samples=[], vo2_samples=[]), polyline_map_data=PolylineMapData(summary_polyline=None), device_data=DeviceData(name=None, activation_timestamp=None, manufacturer=None, serial_number=None, software_version=None, hardware_version=None, other_devices=[])), Activity(metadata=Metadata(name='walking', type=7, summary_id=None, start_time='2023-02-01T20:45:00+00:00', end_time='2023-02-01T21:05:00+00:00', city=None, state=None, country=None, upload_type=1), lap_data=LapData(laps=[]), distance_data=DistanceData(summary=DistanceDataSummary(distance_meters=1049.3077826180706, steps=None, floors_climbed=None, swimming=SwimmingSummary(num_laps=None, num_strokes=None, pool_length_meters=None), elevation=ElevationSummary(gain_planned_meters=None, gain_actual_meters=None, loss_actual_meters=None, min_meters=None, avg_meters=None, max_meters=None)), detailed=DistanceDataDetailed(step_samples=[], distance_samples=[], elevation_samples=[], floors_climbed_samples=[])), position_data=PositionData(start_pos_lat_lng_deg=[], center_pos_lat_lng_deg=[], end_pos_lat_lng_deg=[], position_samples=[]), active_durations_data=ActiveDurationsData(activity_seconds=None, inactivity_seconds=None, rest_seconds=None, low_intensity_seconds=None, moderate_intensity_seconds=None, vigorous_intensity_seconds=None, num_continuous_inactive_periods=None, activity_levels_samples=[]), MET_data=METData(avg_level=None, num_inactive_minutes=None, num_low_intensity_minutes=None, num_moderate_intensity_minutes=None, num_high_intensity_minutes=None, MET_samples=[]), movement_data=MovementData(avg_speed_meters_per_second=None, max_speed_meters_per_second=None, normalized_speed_meters_per_second=None, avg_pace_minutes_per_kilometer=None, max_pace_minutes_per_kilometer=None, avg_velocity_meters_per_second=None, max_velocity_meters_per_second=None, avg_cadence_rpm=None, max_cadence_rpm=None, avg_torque_newton_meters=None, max_torque_newton_meters=None, cadence_samples=[], speed_samples=[]), calories_data=CaloriesData(net_activity_calories=None, BMR_calories=None, total_burned_calories=80.58, net_intake_calories=None, calorie_samples=[]), work_data=WorkData(work_kilojoules=None), power_data=PowerData(avg_watts=None, max_watts=None, power_samples=[]), energy_data=EnergyData(energy_kilojoules=None, energy_planned_kilojoules=None), TSS_data=TSSData(TSS_samples=[]), heart_rate_data=HeartRateData(summary=HeartRateDataSummary(avg_hr_bpm=78.5, max_hr_bpm=97, min_hr_bpm=60, avg_hrv_rmssd=None, avg_hrv_sdnn=None, user_max_hr_bpm=None, resting_hr_bpm=None, hr_zone_data=[]), detailed=HeartRateDataDetailed(hr_samples=[HeartRateDataSample(timestamp='2023-02-01T20:54:13+00:00', bpm=97), HeartRateDataSample(timestamp='2023-02-01T20:54:39+00:00', bpm=60)], hrv_samples_rmssd=[], hrv_samples_sdnn=[])), strain_data=StrainData(strain_level=None), oxygen_data=OxygenData(vo2max_ml_per_min_per_kg=None, avg_saturation_percentage=None, saturation_samples=[], vo2_samples=[]), polyline_map_data=PolylineMapData(summary_polyline=None), device_data=DeviceData(name=None, activation_timestamp=None, manufacturer=None, serial_number=None, software_version=None, hardware_version=None, other_devices=[])), Activity(metadata=Metadata(name='walking', type=7, summary_id=None, start_time='2023-02-01T21:21:00+00:00', end_time='2023-02-01T22:04:00+00:00', city=None, state=None, country=None, upload_type=1), lap_data=LapData(laps=[]), distance_data=DistanceData(summary=DistanceDataSummary(distance_meters=3027.2101340383515, steps=None, floors_climbed=None, swimming=SwimmingSummary(num_laps=None, num_strokes=None, pool_length_meters=None), elevation=ElevationSummary(gain_planned_meters=None, gain_actual_meters=None, loss_actual_meters=None, min_meters=None, avg_meters=None, max_meters=None)), detailed=DistanceDataDetailed(step_samples=[], distance_samples=[], elevation_samples=[], floors_climbed_samples=[])), position_data=PositionData(start_pos_lat_lng_deg=[], center_pos_lat_lng_deg=[], end_pos_lat_lng_deg=[], position_samples=[]), active_durations_data=ActiveDurationsData(activity_seconds=None, inactivity_seconds=None, rest_seconds=None, low_intensity_seconds=None, moderate_intensity_seconds=None, vigorous_intensity_seconds=None, num_continuous_inactive_periods=None, activity_levels_samples=[]), MET_data=METData(avg_level=None, num_inactive_minutes=None, num_low_intensity_minutes=None, num_moderate_intensity_minutes=None, num_high_intensity_minutes=None, MET_samples=[]), movement_data=MovementData(avg_speed_meters_per_second=None, max_speed_meters_per_second=None, normalized_speed_meters_per_second=None, avg_pace_minutes_per_kilometer=None, max_pace_minutes_per_kilometer=None, avg_velocity_meters_per_second=None, max_velocity_meters_per_second=None, avg_cadence_rpm=None, max_cadence_rpm=None, avg_torque_newton_meters=None, max_torque_newton_meters=None, cadence_samples=[], speed_samples=[]), calories_data=CaloriesData(net_activity_calories=None, BMR_calories=None, total_burned_calories=173.24699999999999, net_intake_calories=None, calorie_samples=[]), work_data=WorkData(work_kilojoules=None), power_data=PowerData(avg_watts=None, max_watts=None, power_samples=[]), energy_data=EnergyData(energy_kilojoules=None, energy_planned_kilojoules=None), TSS_data=TSSData(TSS_samples=[]), heart_rate_data=HeartRateData(summary=HeartRateDataSummary(avg_hr_bpm=74.0, max_hr_bpm=88, min_hr_bpm=66, avg_hrv_rmssd=None, avg_hrv_sdnn=None, user_max_hr_bpm=None, resting_hr_bpm=None, hr_zone_data=[]), detailed=HeartRateDataDetailed(hr_samples=[HeartRateDataSample(timestamp='2023-02-01T21:58:11+00:00', bpm=68), HeartRateDataSample(timestamp='2023-02-01T21:58:14+00:00', bpm=66), HeartRateDataSample(timestamp='2023-02-01T21:58:16+00:00', bpm=88)], hrv_samples_rmssd=[], hrv_samples_sdnn=[])), strain_data=StrainData(strain_level=None), oxygen_data=OxygenData(vo2max_ml_per_min_per_kg=None, avg_saturation_percentage=None, saturation_samples=[], vo2_samples=[]), polyline_map_data=PolylineMapData(summary_polyline=None), device_data=DeviceData(name=None, activation_timestamp=None, manufacturer=None, serial_number=None, software_version=None, hardware_version=None, other_devices=[]))])}"
      ]
     },
     "execution_count": 68,
     "metadata": {},
     "output_type": "execute_result"
    }
   ],
   "source": [
    "data.__dict__"
   ]
  },
  {
   "cell_type": "code",
   "execution_count": null,
   "metadata": {},
   "outputs": [
    {
     "data": {
      "text/plain": [
       "[Activity(metadata=Metadata(name='walking', type=7, summary_id=None, start_time='2023-02-01T08:28:00+00:00', end_time='2023-02-01T08:54:00+00:00', city=None, state=None, country=None, upload_type=1), lap_data=LapData(laps=[]), distance_data=DistanceData(summary=DistanceDataSummary(distance_meters=4443.470942519719, steps=None, floors_climbed=None, swimming=SwimmingSummary(num_laps=None, num_strokes=None, pool_length_meters=None), elevation=ElevationSummary(gain_planned_meters=None, gain_actual_meters=None, loss_actual_meters=None, min_meters=None, avg_meters=None, max_meters=None)), detailed=DistanceDataDetailed(step_samples=[], distance_samples=[], elevation_samples=[], floors_climbed_samples=[])), position_data=PositionData(start_pos_lat_lng_deg=[], center_pos_lat_lng_deg=[], end_pos_lat_lng_deg=[], position_samples=[]), active_durations_data=ActiveDurationsData(activity_seconds=None, inactivity_seconds=None, rest_seconds=None, low_intensity_seconds=None, moderate_intensity_seconds=None, vigorous_intensity_seconds=None, num_continuous_inactive_periods=None, activity_levels_samples=[]), MET_data=METData(avg_level=None, num_inactive_minutes=None, num_low_intensity_minutes=None, num_moderate_intensity_minutes=None, num_high_intensity_minutes=None, MET_samples=[]), movement_data=MovementData(avg_speed_meters_per_second=None, max_speed_meters_per_second=None, normalized_speed_meters_per_second=None, avg_pace_minutes_per_kilometer=None, max_pace_minutes_per_kilometer=None, avg_velocity_meters_per_second=None, max_velocity_meters_per_second=None, avg_cadence_rpm=None, max_cadence_rpm=None, avg_torque_newton_meters=None, max_torque_newton_meters=None, cadence_samples=[], speed_samples=[]), calories_data=CaloriesData(net_activity_calories=None, BMR_calories=None, total_burned_calories=104.75399999999999, net_intake_calories=None, calorie_samples=[]), work_data=WorkData(work_kilojoules=None), power_data=PowerData(avg_watts=None, max_watts=None, power_samples=[]), energy_data=EnergyData(energy_kilojoules=None, energy_planned_kilojoules=None), TSS_data=TSSData(TSS_samples=[]), heart_rate_data=HeartRateData(summary=HeartRateDataSummary(avg_hr_bpm=None, max_hr_bpm=None, min_hr_bpm=None, avg_hrv_rmssd=None, avg_hrv_sdnn=None, user_max_hr_bpm=None, resting_hr_bpm=None, hr_zone_data=[]), detailed=HeartRateDataDetailed(hr_samples=[], hrv_samples_rmssd=[], hrv_samples_sdnn=[])), strain_data=StrainData(strain_level=None), oxygen_data=OxygenData(vo2max_ml_per_min_per_kg=None, avg_saturation_percentage=None, saturation_samples=[], vo2_samples=[]), polyline_map_data=PolylineMapData(summary_polyline=None), device_data=DeviceData(name=None, activation_timestamp=None, manufacturer=None, serial_number=None, software_version=None, hardware_version=None, other_devices=[])),\n",
       " Activity(metadata=Metadata(name='walking', type=7, summary_id=None, start_time='2023-02-01T19:52:00+00:00', end_time='2023-02-01T20:04:00+00:00', city=None, state=None, country=None, upload_type=1), lap_data=LapData(laps=[]), distance_data=DistanceData(summary=DistanceDataSummary(distance_meters=None, steps=None, floors_climbed=None, swimming=SwimmingSummary(num_laps=None, num_strokes=None, pool_length_meters=None), elevation=ElevationSummary(gain_planned_meters=None, gain_actual_meters=None, loss_actual_meters=None, min_meters=None, avg_meters=None, max_meters=None)), detailed=DistanceDataDetailed(step_samples=[], distance_samples=[], elevation_samples=[], floors_climbed_samples=[])), position_data=PositionData(start_pos_lat_lng_deg=[], center_pos_lat_lng_deg=[], end_pos_lat_lng_deg=[], position_samples=[]), active_durations_data=ActiveDurationsData(activity_seconds=None, inactivity_seconds=None, rest_seconds=None, low_intensity_seconds=None, moderate_intensity_seconds=None, vigorous_intensity_seconds=None, num_continuous_inactive_periods=None, activity_levels_samples=[]), MET_data=METData(avg_level=None, num_inactive_minutes=None, num_low_intensity_minutes=None, num_moderate_intensity_minutes=None, num_high_intensity_minutes=None, MET_samples=[]), movement_data=MovementData(avg_speed_meters_per_second=None, max_speed_meters_per_second=None, normalized_speed_meters_per_second=None, avg_pace_minutes_per_kilometer=None, max_pace_minutes_per_kilometer=None, avg_velocity_meters_per_second=None, max_velocity_meters_per_second=None, avg_cadence_rpm=None, max_cadence_rpm=None, avg_torque_newton_meters=None, max_torque_newton_meters=None, cadence_samples=[], speed_samples=[]), calories_data=CaloriesData(net_activity_calories=None, BMR_calories=None, total_burned_calories=48.348, net_intake_calories=None, calorie_samples=[]), work_data=WorkData(work_kilojoules=None), power_data=PowerData(avg_watts=None, max_watts=None, power_samples=[]), energy_data=EnergyData(energy_kilojoules=None, energy_planned_kilojoules=None), TSS_data=TSSData(TSS_samples=[]), heart_rate_data=HeartRateData(summary=HeartRateDataSummary(avg_hr_bpm=None, max_hr_bpm=None, min_hr_bpm=None, avg_hrv_rmssd=None, avg_hrv_sdnn=None, user_max_hr_bpm=None, resting_hr_bpm=None, hr_zone_data=[]), detailed=HeartRateDataDetailed(hr_samples=[], hrv_samples_rmssd=[], hrv_samples_sdnn=[])), strain_data=StrainData(strain_level=None), oxygen_data=OxygenData(vo2max_ml_per_min_per_kg=None, avg_saturation_percentage=None, saturation_samples=[], vo2_samples=[]), polyline_map_data=PolylineMapData(summary_polyline=None), device_data=DeviceData(name=None, activation_timestamp=None, manufacturer=None, serial_number=None, software_version=None, hardware_version=None, other_devices=[])),\n",
       " Activity(metadata=Metadata(name='walking', type=7, summary_id=None, start_time='2023-02-01T20:45:00+00:00', end_time='2023-02-01T21:05:00+00:00', city=None, state=None, country=None, upload_type=1), lap_data=LapData(laps=[]), distance_data=DistanceData(summary=DistanceDataSummary(distance_meters=1049.3077826180706, steps=None, floors_climbed=None, swimming=SwimmingSummary(num_laps=None, num_strokes=None, pool_length_meters=None), elevation=ElevationSummary(gain_planned_meters=None, gain_actual_meters=None, loss_actual_meters=None, min_meters=None, avg_meters=None, max_meters=None)), detailed=DistanceDataDetailed(step_samples=[], distance_samples=[], elevation_samples=[], floors_climbed_samples=[])), position_data=PositionData(start_pos_lat_lng_deg=[], center_pos_lat_lng_deg=[], end_pos_lat_lng_deg=[], position_samples=[]), active_durations_data=ActiveDurationsData(activity_seconds=None, inactivity_seconds=None, rest_seconds=None, low_intensity_seconds=None, moderate_intensity_seconds=None, vigorous_intensity_seconds=None, num_continuous_inactive_periods=None, activity_levels_samples=[]), MET_data=METData(avg_level=None, num_inactive_minutes=None, num_low_intensity_minutes=None, num_moderate_intensity_minutes=None, num_high_intensity_minutes=None, MET_samples=[]), movement_data=MovementData(avg_speed_meters_per_second=None, max_speed_meters_per_second=None, normalized_speed_meters_per_second=None, avg_pace_minutes_per_kilometer=None, max_pace_minutes_per_kilometer=None, avg_velocity_meters_per_second=None, max_velocity_meters_per_second=None, avg_cadence_rpm=None, max_cadence_rpm=None, avg_torque_newton_meters=None, max_torque_newton_meters=None, cadence_samples=[], speed_samples=[]), calories_data=CaloriesData(net_activity_calories=None, BMR_calories=None, total_burned_calories=80.58, net_intake_calories=None, calorie_samples=[]), work_data=WorkData(work_kilojoules=None), power_data=PowerData(avg_watts=None, max_watts=None, power_samples=[]), energy_data=EnergyData(energy_kilojoules=None, energy_planned_kilojoules=None), TSS_data=TSSData(TSS_samples=[]), heart_rate_data=HeartRateData(summary=HeartRateDataSummary(avg_hr_bpm=78.5, max_hr_bpm=97, min_hr_bpm=60, avg_hrv_rmssd=None, avg_hrv_sdnn=None, user_max_hr_bpm=None, resting_hr_bpm=None, hr_zone_data=[]), detailed=HeartRateDataDetailed(hr_samples=[HeartRateDataSample(timestamp='2023-02-01T20:54:13+00:00', bpm=97), HeartRateDataSample(timestamp='2023-02-01T20:54:39+00:00', bpm=60)], hrv_samples_rmssd=[], hrv_samples_sdnn=[])), strain_data=StrainData(strain_level=None), oxygen_data=OxygenData(vo2max_ml_per_min_per_kg=None, avg_saturation_percentage=None, saturation_samples=[], vo2_samples=[]), polyline_map_data=PolylineMapData(summary_polyline=None), device_data=DeviceData(name=None, activation_timestamp=None, manufacturer=None, serial_number=None, software_version=None, hardware_version=None, other_devices=[])),\n",
       " Activity(metadata=Metadata(name='walking', type=7, summary_id=None, start_time='2023-02-01T21:21:00+00:00', end_time='2023-02-01T22:04:00+00:00', city=None, state=None, country=None, upload_type=1), lap_data=LapData(laps=[]), distance_data=DistanceData(summary=DistanceDataSummary(distance_meters=3027.2101340383515, steps=None, floors_climbed=None, swimming=SwimmingSummary(num_laps=None, num_strokes=None, pool_length_meters=None), elevation=ElevationSummary(gain_planned_meters=None, gain_actual_meters=None, loss_actual_meters=None, min_meters=None, avg_meters=None, max_meters=None)), detailed=DistanceDataDetailed(step_samples=[], distance_samples=[], elevation_samples=[], floors_climbed_samples=[])), position_data=PositionData(start_pos_lat_lng_deg=[], center_pos_lat_lng_deg=[], end_pos_lat_lng_deg=[], position_samples=[]), active_durations_data=ActiveDurationsData(activity_seconds=None, inactivity_seconds=None, rest_seconds=None, low_intensity_seconds=None, moderate_intensity_seconds=None, vigorous_intensity_seconds=None, num_continuous_inactive_periods=None, activity_levels_samples=[]), MET_data=METData(avg_level=None, num_inactive_minutes=None, num_low_intensity_minutes=None, num_moderate_intensity_minutes=None, num_high_intensity_minutes=None, MET_samples=[]), movement_data=MovementData(avg_speed_meters_per_second=None, max_speed_meters_per_second=None, normalized_speed_meters_per_second=None, avg_pace_minutes_per_kilometer=None, max_pace_minutes_per_kilometer=None, avg_velocity_meters_per_second=None, max_velocity_meters_per_second=None, avg_cadence_rpm=None, max_cadence_rpm=None, avg_torque_newton_meters=None, max_torque_newton_meters=None, cadence_samples=[], speed_samples=[]), calories_data=CaloriesData(net_activity_calories=None, BMR_calories=None, total_burned_calories=173.24699999999999, net_intake_calories=None, calorie_samples=[]), work_data=WorkData(work_kilojoules=None), power_data=PowerData(avg_watts=None, max_watts=None, power_samples=[]), energy_data=EnergyData(energy_kilojoules=None, energy_planned_kilojoules=None), TSS_data=TSSData(TSS_samples=[]), heart_rate_data=HeartRateData(summary=HeartRateDataSummary(avg_hr_bpm=74.0, max_hr_bpm=88, min_hr_bpm=66, avg_hrv_rmssd=None, avg_hrv_sdnn=None, user_max_hr_bpm=None, resting_hr_bpm=None, hr_zone_data=[]), detailed=HeartRateDataDetailed(hr_samples=[HeartRateDataSample(timestamp='2023-02-01T21:58:11+00:00', bpm=68), HeartRateDataSample(timestamp='2023-02-01T21:58:14+00:00', bpm=66), HeartRateDataSample(timestamp='2023-02-01T21:58:16+00:00', bpm=88)], hrv_samples_rmssd=[], hrv_samples_sdnn=[])), strain_data=StrainData(strain_level=None), oxygen_data=OxygenData(vo2max_ml_per_min_per_kg=None, avg_saturation_percentage=None, saturation_samples=[], vo2_samples=[]), polyline_map_data=PolylineMapData(summary_polyline=None), device_data=DeviceData(name=None, activation_timestamp=None, manufacturer=None, serial_number=None, software_version=None, hardware_version=None, other_devices=[]))]"
      ]
     },
     "execution_count": 64,
     "metadata": {},
     "output_type": "execute_result"
    }
   ],
   "source": [
    "# print(data.parsed_response.data)\n",
    "# import json\n",
    "data.parsed_response.data"
   ]
  },
  {
   "cell_type": "code",
   "execution_count": 71,
   "metadata": {},
   "outputs": [
    {
     "data": {
      "text/plain": [
       "{'metadata': Metadata(name='walking', type=7, summary_id=None, start_time='2023-02-01T08:28:00+00:00', end_time='2023-02-01T08:54:00+00:00', city=None, state=None, country=None, upload_type=1),\n",
       " 'lap_data': LapData(laps=[]),\n",
       " 'distance_data': DistanceData(summary=DistanceDataSummary(distance_meters=4443.470942519719, steps=None, floors_climbed=None, swimming=SwimmingSummary(num_laps=None, num_strokes=None, pool_length_meters=None), elevation=ElevationSummary(gain_planned_meters=None, gain_actual_meters=None, loss_actual_meters=None, min_meters=None, avg_meters=None, max_meters=None)), detailed=DistanceDataDetailed(step_samples=[], distance_samples=[], elevation_samples=[], floors_climbed_samples=[])),\n",
       " 'position_data': PositionData(start_pos_lat_lng_deg=[], center_pos_lat_lng_deg=[], end_pos_lat_lng_deg=[], position_samples=[]),\n",
       " 'active_durations_data': ActiveDurationsData(activity_seconds=None, inactivity_seconds=None, rest_seconds=None, low_intensity_seconds=None, moderate_intensity_seconds=None, vigorous_intensity_seconds=None, num_continuous_inactive_periods=None, activity_levels_samples=[]),\n",
       " 'MET_data': METData(avg_level=None, num_inactive_minutes=None, num_low_intensity_minutes=None, num_moderate_intensity_minutes=None, num_high_intensity_minutes=None, MET_samples=[]),\n",
       " 'movement_data': MovementData(avg_speed_meters_per_second=None, max_speed_meters_per_second=None, normalized_speed_meters_per_second=None, avg_pace_minutes_per_kilometer=None, max_pace_minutes_per_kilometer=None, avg_velocity_meters_per_second=None, max_velocity_meters_per_second=None, avg_cadence_rpm=None, max_cadence_rpm=None, avg_torque_newton_meters=None, max_torque_newton_meters=None, cadence_samples=[], speed_samples=[]),\n",
       " 'calories_data': CaloriesData(net_activity_calories=None, BMR_calories=None, total_burned_calories=104.75399999999999, net_intake_calories=None, calorie_samples=[]),\n",
       " 'work_data': WorkData(work_kilojoules=None),\n",
       " 'power_data': PowerData(avg_watts=None, max_watts=None, power_samples=[]),\n",
       " 'energy_data': EnergyData(energy_kilojoules=None, energy_planned_kilojoules=None),\n",
       " 'TSS_data': TSSData(TSS_samples=[]),\n",
       " 'heart_rate_data': HeartRateData(summary=HeartRateDataSummary(avg_hr_bpm=None, max_hr_bpm=None, min_hr_bpm=None, avg_hrv_rmssd=None, avg_hrv_sdnn=None, user_max_hr_bpm=None, resting_hr_bpm=None, hr_zone_data=[]), detailed=HeartRateDataDetailed(hr_samples=[], hrv_samples_rmssd=[], hrv_samples_sdnn=[])),\n",
       " 'strain_data': StrainData(strain_level=None),\n",
       " 'oxygen_data': OxygenData(vo2max_ml_per_min_per_kg=None, avg_saturation_percentage=None, saturation_samples=[], vo2_samples=[]),\n",
       " 'polyline_map_data': PolylineMapData(summary_polyline=None),\n",
       " 'device_data': DeviceData(name=None, activation_timestamp=None, manufacturer=None, serial_number=None, software_version=None, hardware_version=None, other_devices=[])}"
      ]
     },
     "execution_count": 71,
     "metadata": {},
     "output_type": "execute_result"
    }
   ],
   "source": [
    "data.parsed_response.data[0].__dict__"
   ]
  },
  {
   "cell_type": "code",
   "execution_count": 61,
   "metadata": {},
   "outputs": [
    {
     "ename": "TypeError",
     "evalue": "write() argument must be str, not list",
     "output_type": "error",
     "traceback": [
      "\u001b[0;31m---------------------------------------------------------------------------\u001b[0m",
      "\u001b[0;31mTypeError\u001b[0m                                 Traceback (most recent call last)",
      "Cell \u001b[0;32mIn[61], line 2\u001b[0m\n\u001b[1;32m      1\u001b[0m \u001b[39mwith\u001b[39;00m \u001b[39mopen\u001b[39m(\u001b[39m'\u001b[39m\u001b[39m1.txt\u001b[39m\u001b[39m'\u001b[39m, \u001b[39m'\u001b[39m\u001b[39mw\u001b[39m\u001b[39m'\u001b[39m) \u001b[39mas\u001b[39;00m f:\n\u001b[0;32m----> 2\u001b[0m   f\u001b[39m.\u001b[39;49mwrite(data\u001b[39m.\u001b[39;49mparsed_response\u001b[39m.\u001b[39;49mdata)\n",
      "\u001b[0;31mTypeError\u001b[0m: write() argument must be str, not list"
     ]
    }
   ],
   "source": [
    "with open('1.txt', 'w') as f:\n",
    "  f.write(data.parsed_response.data)"
   ]
  },
  {
   "cell_type": "code",
   "execution_count": 60,
   "metadata": {},
   "outputs": [
    {
     "ename": "TypeError",
     "evalue": "Object of type DataReturned is not JSON serializable",
     "output_type": "error",
     "traceback": [
      "\u001b[0;31m---------------------------------------------------------------------------\u001b[0m",
      "\u001b[0;31mTypeError\u001b[0m                                 Traceback (most recent call last)",
      "Cell \u001b[0;32mIn[60], line 1\u001b[0m\n\u001b[0;32m----> 1\u001b[0m \u001b[39mprint\u001b[39m(json\u001b[39m.\u001b[39;49mdumps(data\u001b[39m.\u001b[39;49m\u001b[39m__dict__\u001b[39;49m, sort_keys\u001b[39m=\u001b[39;49m\u001b[39mTrue\u001b[39;49;00m, indent\u001b[39m=\u001b[39;49m\u001b[39m2\u001b[39;49m))\n",
      "File \u001b[0;32m/usr/local/Cellar/python@3.10/3.10.9/Frameworks/Python.framework/Versions/3.10/lib/python3.10/json/__init__.py:238\u001b[0m, in \u001b[0;36mdumps\u001b[0;34m(obj, skipkeys, ensure_ascii, check_circular, allow_nan, cls, indent, separators, default, sort_keys, **kw)\u001b[0m\n\u001b[1;32m    232\u001b[0m \u001b[39mif\u001b[39;00m \u001b[39mcls\u001b[39m \u001b[39mis\u001b[39;00m \u001b[39mNone\u001b[39;00m:\n\u001b[1;32m    233\u001b[0m     \u001b[39mcls\u001b[39m \u001b[39m=\u001b[39m JSONEncoder\n\u001b[1;32m    234\u001b[0m \u001b[39mreturn\u001b[39;00m \u001b[39mcls\u001b[39;49m(\n\u001b[1;32m    235\u001b[0m     skipkeys\u001b[39m=\u001b[39;49mskipkeys, ensure_ascii\u001b[39m=\u001b[39;49mensure_ascii,\n\u001b[1;32m    236\u001b[0m     check_circular\u001b[39m=\u001b[39;49mcheck_circular, allow_nan\u001b[39m=\u001b[39;49mallow_nan, indent\u001b[39m=\u001b[39;49mindent,\n\u001b[1;32m    237\u001b[0m     separators\u001b[39m=\u001b[39;49mseparators, default\u001b[39m=\u001b[39;49mdefault, sort_keys\u001b[39m=\u001b[39;49msort_keys,\n\u001b[0;32m--> 238\u001b[0m     \u001b[39m*\u001b[39;49m\u001b[39m*\u001b[39;49mkw)\u001b[39m.\u001b[39;49mencode(obj)\n",
      "File \u001b[0;32m/usr/local/Cellar/python@3.10/3.10.9/Frameworks/Python.framework/Versions/3.10/lib/python3.10/json/encoder.py:201\u001b[0m, in \u001b[0;36mJSONEncoder.encode\u001b[0;34m(self, o)\u001b[0m\n\u001b[1;32m    199\u001b[0m chunks \u001b[39m=\u001b[39m \u001b[39mself\u001b[39m\u001b[39m.\u001b[39miterencode(o, _one_shot\u001b[39m=\u001b[39m\u001b[39mTrue\u001b[39;00m)\n\u001b[1;32m    200\u001b[0m \u001b[39mif\u001b[39;00m \u001b[39mnot\u001b[39;00m \u001b[39misinstance\u001b[39m(chunks, (\u001b[39mlist\u001b[39m, \u001b[39mtuple\u001b[39m)):\n\u001b[0;32m--> 201\u001b[0m     chunks \u001b[39m=\u001b[39m \u001b[39mlist\u001b[39;49m(chunks)\n\u001b[1;32m    202\u001b[0m \u001b[39mreturn\u001b[39;00m \u001b[39m'\u001b[39m\u001b[39m'\u001b[39m\u001b[39m.\u001b[39mjoin(chunks)\n",
      "File \u001b[0;32m/usr/local/Cellar/python@3.10/3.10.9/Frameworks/Python.framework/Versions/3.10/lib/python3.10/json/encoder.py:431\u001b[0m, in \u001b[0;36m_make_iterencode.<locals>._iterencode\u001b[0;34m(o, _current_indent_level)\u001b[0m\n\u001b[1;32m    429\u001b[0m     \u001b[39myield from\u001b[39;00m _iterencode_list(o, _current_indent_level)\n\u001b[1;32m    430\u001b[0m \u001b[39melif\u001b[39;00m \u001b[39misinstance\u001b[39m(o, \u001b[39mdict\u001b[39m):\n\u001b[0;32m--> 431\u001b[0m     \u001b[39myield from\u001b[39;00m _iterencode_dict(o, _current_indent_level)\n\u001b[1;32m    432\u001b[0m \u001b[39melse\u001b[39;00m:\n\u001b[1;32m    433\u001b[0m     \u001b[39mif\u001b[39;00m markers \u001b[39mis\u001b[39;00m \u001b[39mnot\u001b[39;00m \u001b[39mNone\u001b[39;00m:\n",
      "File \u001b[0;32m/usr/local/Cellar/python@3.10/3.10.9/Frameworks/Python.framework/Versions/3.10/lib/python3.10/json/encoder.py:405\u001b[0m, in \u001b[0;36m_make_iterencode.<locals>._iterencode_dict\u001b[0;34m(dct, _current_indent_level)\u001b[0m\n\u001b[1;32m    403\u001b[0m         \u001b[39melse\u001b[39;00m:\n\u001b[1;32m    404\u001b[0m             chunks \u001b[39m=\u001b[39m _iterencode(value, _current_indent_level)\n\u001b[0;32m--> 405\u001b[0m         \u001b[39myield from\u001b[39;00m chunks\n\u001b[1;32m    406\u001b[0m \u001b[39mif\u001b[39;00m newline_indent \u001b[39mis\u001b[39;00m \u001b[39mnot\u001b[39;00m \u001b[39mNone\u001b[39;00m:\n\u001b[1;32m    407\u001b[0m     _current_indent_level \u001b[39m-\u001b[39m\u001b[39m=\u001b[39m \u001b[39m1\u001b[39m\n",
      "File \u001b[0;32m/usr/local/Cellar/python@3.10/3.10.9/Frameworks/Python.framework/Versions/3.10/lib/python3.10/json/encoder.py:438\u001b[0m, in \u001b[0;36m_make_iterencode.<locals>._iterencode\u001b[0;34m(o, _current_indent_level)\u001b[0m\n\u001b[1;32m    436\u001b[0m         \u001b[39mraise\u001b[39;00m \u001b[39mValueError\u001b[39;00m(\u001b[39m\"\u001b[39m\u001b[39mCircular reference detected\u001b[39m\u001b[39m\"\u001b[39m)\n\u001b[1;32m    437\u001b[0m     markers[markerid] \u001b[39m=\u001b[39m o\n\u001b[0;32m--> 438\u001b[0m o \u001b[39m=\u001b[39m _default(o)\n\u001b[1;32m    439\u001b[0m \u001b[39myield from\u001b[39;00m _iterencode(o, _current_indent_level)\n\u001b[1;32m    440\u001b[0m \u001b[39mif\u001b[39;00m markers \u001b[39mis\u001b[39;00m \u001b[39mnot\u001b[39;00m \u001b[39mNone\u001b[39;00m:\n",
      "File \u001b[0;32m/usr/local/Cellar/python@3.10/3.10.9/Frameworks/Python.framework/Versions/3.10/lib/python3.10/json/encoder.py:179\u001b[0m, in \u001b[0;36mJSONEncoder.default\u001b[0;34m(self, o)\u001b[0m\n\u001b[1;32m    160\u001b[0m \u001b[39mdef\u001b[39;00m \u001b[39mdefault\u001b[39m(\u001b[39mself\u001b[39m, o):\n\u001b[1;32m    161\u001b[0m \u001b[39m    \u001b[39m\u001b[39m\"\"\"Implement this method in a subclass such that it returns\u001b[39;00m\n\u001b[1;32m    162\u001b[0m \u001b[39m    a serializable object for ``o``, or calls the base implementation\u001b[39;00m\n\u001b[1;32m    163\u001b[0m \u001b[39m    (to raise a ``TypeError``).\u001b[39;00m\n\u001b[0;32m   (...)\u001b[0m\n\u001b[1;32m    177\u001b[0m \n\u001b[1;32m    178\u001b[0m \u001b[39m    \"\"\"\u001b[39;00m\n\u001b[0;32m--> 179\u001b[0m     \u001b[39mraise\u001b[39;00m \u001b[39mTypeError\u001b[39;00m(\u001b[39mf\u001b[39m\u001b[39m'\u001b[39m\u001b[39mObject of type \u001b[39m\u001b[39m{\u001b[39;00mo\u001b[39m.\u001b[39m\u001b[39m__class__\u001b[39m\u001b[39m.\u001b[39m\u001b[39m__name__\u001b[39m\u001b[39m}\u001b[39;00m\u001b[39m \u001b[39m\u001b[39m'\u001b[39m\n\u001b[1;32m    180\u001b[0m                     \u001b[39mf\u001b[39m\u001b[39m'\u001b[39m\u001b[39mis not JSON serializable\u001b[39m\u001b[39m'\u001b[39m)\n",
      "\u001b[0;31mTypeError\u001b[0m: Object of type DataReturned is not JSON serializable"
     ]
    }
   ],
   "source": [
    "print(json.dumps(data.__dict__, sort_keys=True, indent=2))"
   ]
  },
  {
   "cell_type": "code",
   "execution_count": null,
   "metadata": {},
   "outputs": [],
   "source": []
  }
 ],
 "metadata": {
  "kernelspec": {
   "display_name": "ichack",
   "language": "python",
   "name": "python3"
  },
  "language_info": {
   "codemirror_mode": {
    "name": "ipython",
    "version": 3
   },
   "file_extension": ".py",
   "mimetype": "text/x-python",
   "name": "python",
   "nbconvert_exporter": "python",
   "pygments_lexer": "ipython3",
   "version": "3.10.9"
  },
  "orig_nbformat": 4,
  "vscode": {
   "interpreter": {
    "hash": "bcfdc697d80f7ef20b736435e7102f812272baac4cf1b5dba37b87c6debfa05a"
   }
  }
 },
 "nbformat": 4,
 "nbformat_minor": 2
}
